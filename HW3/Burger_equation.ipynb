{
 "cells": [
  {
   "cell_type": "code",
   "execution_count": 1,
   "metadata": {},
   "outputs": [],
   "source": [
    "from fipy import CellVariable, Grid1D, TransientTerm, ConvectionTerm, DiffusionTerm\n",
    "from fipy.tools import numerix\n",
    "import matplotlib.pyplot as plt\n",
    "import numpy as np"
   ]
  },
  {
   "cell_type": "code",
   "execution_count": null,
   "metadata": {},
   "outputs": [],
   "source": [
    "# Parameters\n",
    "nu = 0.01/np.pi # Kinematic viscosity\n",
    "L = 2.0    # Spatial domain length (-1 to 1)\n",
    "N = 1000    # Number of spatial points\n",
    "dx = L / N  # Spatial step size\n",
    "x = np.linspace(-1, 1, N)  # Spatial grid\n",
    "\n",
    "# Mesh\n",
    "mesh = Grid1D(dx=dx, nx=N) - 1\n",
    "\n",
    "# Variable to solve for\n",
    "u = CellVariable(name=\"u\", mesh=mesh, value=0.0)\n",
    "\n",
    "# Initial condition\n",
    "u.setValue(-np.sin(np.pi * mesh.cellCenters[0]))\n",
    "\n",
    "# Boundary conditions\n",
    "u.constrain(0, where=mesh.facesLeft)   # u(t, -1) = 0\n",
    "u.constrain(0, where=mesh.facesRight)  # u(t, 1) = 0\n",
    "\n",
    "# Define the PDE\n",
    "eq = (TransientTerm() + ConvectionTerm(coeff=u.faceValue * [[1]]) - DiffusionTerm(coeff=nu) == 0)\n",
    "\n",
    "# Time step and total time\n",
    "dt = 0.001\n",
    "total_time = 1.0\n",
    "steps = int(total_time / dt)\n",
    "time_grid = np.linspace(0, total_time, steps)\n",
    "u_solution = np.zeros((len(time_grid), len(mesh.cellCenters[0])))\n",
    "\n",
    "\n",
    "for step in (range(steps)):\n",
    "    eq.solve(var=u, dt=dt)\n",
    "    u_solution[step, :] = u.value\n",
    "\n",
    "    if step % 250 == 0:\n",
    "        plt.plot(mesh.cellCenters[0], u.value, label=f't={step * dt:.2f}')\n",
    "plt.plot(mesh.cellCenters[0], u.value, label=f't={step * dt:.2f}')\n",
    "\n",
    "# Final plot\n",
    "plt.xlabel('x')\n",
    "plt.ylabel('u(t, x)')\n",
    "plt.legend()\n",
    "plt.grid()\n",
    "plt.show()"
   ]
  },
  {
   "cell_type": "code",
   "execution_count": null,
   "metadata": {},
   "outputs": [],
   "source": [
    "T, X = np.meshgrid(time_grid, mesh.cellCenters[0], indexing='ij')\n",
    "\n",
    "# Plot the 2D contour\n",
    "plt.figure(figsize=(10, 4))\n",
    "contour = plt.contourf(T, X, u_solution, levels=100, cmap='RdBu_r')\n",
    "plt.colorbar(contour, label='u(t, x)')\n",
    "plt.xlabel('t')\n",
    "plt.ylabel('x')\n",
    "plt.show()"
   ]
  }
 ],
 "metadata": {
  "kernelspec": {
   "display_name": "training",
   "language": "python",
   "name": "python3"
  },
  "language_info": {
   "codemirror_mode": {
    "name": "ipython",
    "version": 3
   },
   "file_extension": ".py",
   "mimetype": "text/x-python",
   "name": "python",
   "nbconvert_exporter": "python",
   "pygments_lexer": "ipython3",
   "version": "3.12.8"
  }
 },
 "nbformat": 4,
 "nbformat_minor": 2
}
